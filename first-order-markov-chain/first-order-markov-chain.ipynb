{
 "cells": [
  {
   "cell_type": "code",
   "execution_count": null,
   "id": "initial_id",
   "metadata": {
    "collapsed": true
   },
   "outputs": [],
   "source": []
  },
  {
   "cell_type": "markdown",
   "source": [],
   "metadata": {
    "collapsed": false
   },
   "id": "d397966b2060c258"
  },
  {
   "cell_type": "markdown",
   "source": [
    "The most simple markov type of markov chain is first order markov chain. In this \n",
    "notebook we explore markov chains through the lens of the first order markov chain.\n",
    "\n",
    "# Markov Chain\n",
    "Named after the Russian mathematician Andrey Marokov (1856-1922), Markov chain is a \n",
    "mathematical tool to model those stochastic processes that could be shown that had the \n",
    "markov property (discussed below). "
   ],
   "metadata": {
    "collapsed": false
   },
   "id": "ced02f69f875f8ec"
  }
 ],
 "metadata": {
  "kernelspec": {
   "display_name": "Python 3",
   "language": "python",
   "name": "python3"
  },
  "language_info": {
   "codemirror_mode": {
    "name": "ipython",
    "version": 2
   },
   "file_extension": ".py",
   "mimetype": "text/x-python",
   "name": "python",
   "nbconvert_exporter": "python",
   "pygments_lexer": "ipython2",
   "version": "2.7.6"
  }
 },
 "nbformat": 4,
 "nbformat_minor": 5
}
