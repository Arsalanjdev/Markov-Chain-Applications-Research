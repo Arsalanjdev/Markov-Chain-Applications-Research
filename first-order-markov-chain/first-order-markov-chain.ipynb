{
 "cells": [
  {
   "cell_type": "markdown",
   "source": [],
   "metadata": {
    "collapsed": false
   },
   "id": "d397966b2060c258"
  },
  {
   "cell_type": "markdown",
   "source": [
    "The most simple markov type of markov chain is first order markov chain. In this \n",
    "notebook we explore markov chains through the lens of the first order markov chain.\n",
    "\n",
    "# Markov Chain\n",
    "Named after the Russian mathematician Andrey Marokov (1856-1922), Markov chain is a \n",
    "mathematical tool to model those stochastic processes that could be shown that had the \n",
    "markov property (discussed below). \n",
    "\n",
    "As said, a first order Markov chain is a model on a sequence of variables so that each\n",
    " of those variables is associated with a specific state of the model and the next state of the \n",
    "model depends only on the current system. To put it simply, in a (first order) Markov \n",
    "chain, what happens next only depends on the current state."
   ],
   "metadata": {
    "collapsed": false
   },
   "id": "ced02f69f875f8ec"
  },
  {
   "cell_type": "markdown",
   "source": [
    "## Mathematical Model of Markov Chains\n",
    "As you might already know, a mathematical model is an abstraction in which the \n",
    "complicated phenomenons could be transformed in simpler mathematical constructs. One \n",
    "of these mathemetical constructs is matrices, and it'll be shown shortly that a Markov\n",
    "chain could be described efficiently using a matrix.\n",
    "Based on temporality, we could classify Markov chain models in two categories:\n",
    "- Discrete Time Markov Chains (DTMC)\n",
    "- Continuous Time Markov Chains (CTMC)\n",
    "\n",
    "In all the notebooks in this project, we only deal with DTMC. \n"
   ],
   "metadata": {
    "collapsed": false
   },
   "id": "e5fbc78e6492d3e6"
  }
 ],
 "metadata": {
  "kernelspec": {
   "display_name": "Python 3",
   "language": "python",
   "name": "python3"
  },
  "language_info": {
   "codemirror_mode": {
    "name": "ipython",
    "version": 2
   },
   "file_extension": ".py",
   "mimetype": "text/x-python",
   "name": "python",
   "nbconvert_exporter": "python",
   "pygments_lexer": "ipython2",
   "version": "2.7.6"
  }
 },
 "nbformat": 4,
 "nbformat_minor": 5
}
